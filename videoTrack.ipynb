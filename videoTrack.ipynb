{
  "nbformat": 4,
  "nbformat_minor": 0,
  "metadata": {
    "colab": {
      "provenance": [],
      "collapsed_sections": [],
      "authorship_tag": "ABX9TyMUTEpzlKjFIOpqdlTtdpf1",
      "include_colab_link": true
    },
    "kernelspec": {
      "name": "python3",
      "display_name": "Python 3"
    },
    "language_info": {
      "name": "python"
    },
    "accelerator": "GPU"
  },
  "cells": [
    {
      "cell_type": "markdown",
      "metadata": {
        "id": "view-in-github",
        "colab_type": "text"
      },
      "source": [
        "<a href=\"https://colab.research.google.com/github/varaha-Maithreya/Person-Reidentification/blob/main/videoTrack.ipynb\" target=\"_parent\"><img src=\"https://colab.research.google.com/assets/colab-badge.svg\" alt=\"Open In Colab\"/></a>"
      ]
    },
    {
      "cell_type": "code",
      "source": [
        "!git clone https://github.com/varaha-Maithreya/Person-Reidentification.git"
      ],
      "metadata": {
        "colab": {
          "base_uri": "https://localhost:8080/"
        },
        "id": "bJX-ngZO5vCN",
        "outputId": "3a263d1c-dceb-4471-d79b-5bf3294cf3a4"
      },
      "execution_count": 1,
      "outputs": [
        {
          "output_type": "stream",
          "name": "stdout",
          "text": [
            "Cloning into 'Person-Reidentification'...\n",
            "remote: Enumerating objects: 124, done.\u001b[K\n",
            "remote: Counting objects: 100% (119/119), done.\u001b[K\n",
            "remote: Compressing objects: 100% (106/106), done.\u001b[K\n",
            "remote: Total 124 (delta 7), reused 114 (delta 6), pack-reused 5\u001b[K\n",
            "Receiving objects: 100% (124/124), 345.83 KiB | 18.20 MiB/s, done.\n",
            "Resolving deltas: 100% (7/7), done.\n"
          ]
        }
      ]
    },
    {
      "cell_type": "code",
      "source": [
        "pip install timm scipy einops yacs opencv-python tensorboard pandas"
      ],
      "metadata": {
        "colab": {
          "base_uri": "https://localhost:8080/"
        },
        "id": "t-qzZ5-nDRoy",
        "outputId": "7e7175d2-d595-4876-c91c-f3d21e3aa7c7"
      },
      "execution_count": 2,
      "outputs": [
        {
          "output_type": "stream",
          "name": "stdout",
          "text": [
            "Looking in indexes: https://pypi.org/simple, https://us-python.pkg.dev/colab-wheels/public/simple/\n",
            "Collecting timm\n",
            "  Downloading timm-0.6.11-py3-none-any.whl (548 kB)\n",
            "\u001b[K     |████████████████████████████████| 548 kB 20.4 MB/s \n",
            "\u001b[?25hRequirement already satisfied: scipy in /usr/local/lib/python3.7/dist-packages (1.7.3)\n",
            "Collecting einops\n",
            "  Downloading einops-0.5.0-py3-none-any.whl (36 kB)\n",
            "Collecting yacs\n",
            "  Downloading yacs-0.1.8-py3-none-any.whl (14 kB)\n",
            "Requirement already satisfied: opencv-python in /usr/local/lib/python3.7/dist-packages (4.6.0.66)\n",
            "Requirement already satisfied: tensorboard in /usr/local/lib/python3.7/dist-packages (2.8.0)\n",
            "Requirement already satisfied: pandas in /usr/local/lib/python3.7/dist-packages (1.3.5)\n",
            "Requirement already satisfied: torch>=1.7 in /usr/local/lib/python3.7/dist-packages (from timm) (1.12.1+cu113)\n",
            "Collecting huggingface-hub\n",
            "  Downloading huggingface_hub-0.10.0-py3-none-any.whl (163 kB)\n",
            "\u001b[K     |████████████████████████████████| 163 kB 54.3 MB/s \n",
            "\u001b[?25hRequirement already satisfied: pyyaml in /usr/local/lib/python3.7/dist-packages (from timm) (6.0)\n",
            "Requirement already satisfied: torchvision in /usr/local/lib/python3.7/dist-packages (from timm) (0.13.1+cu113)\n",
            "Requirement already satisfied: typing-extensions in /usr/local/lib/python3.7/dist-packages (from torch>=1.7->timm) (4.1.1)\n",
            "Requirement already satisfied: numpy<1.23.0,>=1.16.5 in /usr/local/lib/python3.7/dist-packages (from scipy) (1.21.6)\n",
            "Requirement already satisfied: google-auth<3,>=1.6.3 in /usr/local/lib/python3.7/dist-packages (from tensorboard) (1.35.0)\n",
            "Requirement already satisfied: requests<3,>=2.21.0 in /usr/local/lib/python3.7/dist-packages (from tensorboard) (2.23.0)\n",
            "Requirement already satisfied: wheel>=0.26 in /usr/local/lib/python3.7/dist-packages (from tensorboard) (0.37.1)\n",
            "Requirement already satisfied: protobuf>=3.6.0 in /usr/local/lib/python3.7/dist-packages (from tensorboard) (3.17.3)\n",
            "Requirement already satisfied: werkzeug>=0.11.15 in /usr/local/lib/python3.7/dist-packages (from tensorboard) (1.0.1)\n",
            "Requirement already satisfied: google-auth-oauthlib<0.5,>=0.4.1 in /usr/local/lib/python3.7/dist-packages (from tensorboard) (0.4.6)\n",
            "Requirement already satisfied: markdown>=2.6.8 in /usr/local/lib/python3.7/dist-packages (from tensorboard) (3.4.1)\n",
            "Requirement already satisfied: tensorboard-plugin-wit>=1.6.0 in /usr/local/lib/python3.7/dist-packages (from tensorboard) (1.8.1)\n",
            "Requirement already satisfied: grpcio>=1.24.3 in /usr/local/lib/python3.7/dist-packages (from tensorboard) (1.48.1)\n",
            "Requirement already satisfied: setuptools>=41.0.0 in /usr/local/lib/python3.7/dist-packages (from tensorboard) (57.4.0)\n",
            "Requirement already satisfied: tensorboard-data-server<0.7.0,>=0.6.0 in /usr/local/lib/python3.7/dist-packages (from tensorboard) (0.6.1)\n",
            "Requirement already satisfied: absl-py>=0.4 in /usr/local/lib/python3.7/dist-packages (from tensorboard) (1.2.0)\n",
            "Requirement already satisfied: six>=1.9.0 in /usr/local/lib/python3.7/dist-packages (from google-auth<3,>=1.6.3->tensorboard) (1.15.0)\n",
            "Requirement already satisfied: pyasn1-modules>=0.2.1 in /usr/local/lib/python3.7/dist-packages (from google-auth<3,>=1.6.3->tensorboard) (0.2.8)\n",
            "Requirement already satisfied: cachetools<5.0,>=2.0.0 in /usr/local/lib/python3.7/dist-packages (from google-auth<3,>=1.6.3->tensorboard) (4.2.4)\n",
            "Requirement already satisfied: rsa<5,>=3.1.4 in /usr/local/lib/python3.7/dist-packages (from google-auth<3,>=1.6.3->tensorboard) (4.9)\n",
            "Requirement already satisfied: requests-oauthlib>=0.7.0 in /usr/local/lib/python3.7/dist-packages (from google-auth-oauthlib<0.5,>=0.4.1->tensorboard) (1.3.1)\n",
            "Requirement already satisfied: importlib-metadata>=4.4 in /usr/local/lib/python3.7/dist-packages (from markdown>=2.6.8->tensorboard) (4.12.0)\n",
            "Requirement already satisfied: zipp>=0.5 in /usr/local/lib/python3.7/dist-packages (from importlib-metadata>=4.4->markdown>=2.6.8->tensorboard) (3.8.1)\n",
            "Requirement already satisfied: pyasn1<0.5.0,>=0.4.6 in /usr/local/lib/python3.7/dist-packages (from pyasn1-modules>=0.2.1->google-auth<3,>=1.6.3->tensorboard) (0.4.8)\n",
            "Requirement already satisfied: chardet<4,>=3.0.2 in /usr/local/lib/python3.7/dist-packages (from requests<3,>=2.21.0->tensorboard) (3.0.4)\n",
            "Requirement already satisfied: idna<3,>=2.5 in /usr/local/lib/python3.7/dist-packages (from requests<3,>=2.21.0->tensorboard) (2.10)\n",
            "Requirement already satisfied: certifi>=2017.4.17 in /usr/local/lib/python3.7/dist-packages (from requests<3,>=2.21.0->tensorboard) (2022.6.15)\n",
            "Requirement already satisfied: urllib3!=1.25.0,!=1.25.1,<1.26,>=1.21.1 in /usr/local/lib/python3.7/dist-packages (from requests<3,>=2.21.0->tensorboard) (1.24.3)\n",
            "Requirement already satisfied: oauthlib>=3.0.0 in /usr/local/lib/python3.7/dist-packages (from requests-oauthlib>=0.7.0->google-auth-oauthlib<0.5,>=0.4.1->tensorboard) (3.2.0)\n",
            "Requirement already satisfied: python-dateutil>=2.7.3 in /usr/local/lib/python3.7/dist-packages (from pandas) (2.8.2)\n",
            "Requirement already satisfied: pytz>=2017.3 in /usr/local/lib/python3.7/dist-packages (from pandas) (2022.2.1)\n",
            "Requirement already satisfied: packaging>=20.9 in /usr/local/lib/python3.7/dist-packages (from huggingface-hub->timm) (21.3)\n",
            "Requirement already satisfied: tqdm in /usr/local/lib/python3.7/dist-packages (from huggingface-hub->timm) (4.64.1)\n",
            "Requirement already satisfied: filelock in /usr/local/lib/python3.7/dist-packages (from huggingface-hub->timm) (3.8.0)\n",
            "Requirement already satisfied: pyparsing!=3.0.5,>=2.0.2 in /usr/local/lib/python3.7/dist-packages (from packaging>=20.9->huggingface-hub->timm) (3.0.9)\n",
            "Requirement already satisfied: pillow!=8.3.*,>=5.3.0 in /usr/local/lib/python3.7/dist-packages (from torchvision->timm) (7.1.2)\n",
            "Installing collected packages: huggingface-hub, yacs, timm, einops\n",
            "Successfully installed einops-0.5.0 huggingface-hub-0.10.0 timm-0.6.11 yacs-0.1.8\n"
          ]
        }
      ]
    },
    {
      "cell_type": "code",
      "source": [
        "!ls \n",
        "\n",
        "!pwd"
      ],
      "metadata": {
        "colab": {
          "base_uri": "https://localhost:8080/"
        },
        "id": "gopgm90AWK4c",
        "outputId": "c3bbfaff-4b82-4c5f-a4e5-aa7839af08df"
      },
      "execution_count": 3,
      "outputs": [
        {
          "output_type": "stream",
          "name": "stdout",
          "text": [
            "Person-Reidentification  sample_data\n",
            "/content\n"
          ]
        }
      ]
    },
    {
      "cell_type": "code",
      "source": [
        "cd Person-Reidentification/\n"
      ],
      "metadata": {
        "colab": {
          "base_uri": "https://localhost:8080/"
        },
        "id": "REpLPa00QLGo",
        "outputId": "4431e786-0bee-4ee5-dba3-e376f81431f7"
      },
      "execution_count": 11,
      "outputs": [
        {
          "output_type": "stream",
          "name": "stdout",
          "text": [
            "[Errno 2] No such file or directory: 'Person-Reidentification/'\n",
            "/content/Person-Reidentification\n"
          ]
        }
      ]
    },
    {
      "cell_type": "code",
      "source": [
        "import os\n",
        "import torch, cv2\n",
        "import numpy as np\n",
        "from config import cfg\n",
        "import argparse\n",
        "from datasets import make_dataloader\n",
        "from model import make_model\n",
        "from processor import do_inference\n",
        "from utils.logger import setup_logger\n",
        "import torchvision.transforms as T\n",
        "from PIL import Image\n",
        "import matplotlib.pyplot as plt\n",
        "from model.make_model import __num_of_layers\n",
        "from model.make_model import build_transformer_local\n",
        "from model.backbones.vit_pytorch import vit_base_patch16_224_PiT, vit_small_patch16_224_PiT, deit_small_patch16_224_PiT"
      ],
      "metadata": {
        "id": "bh3P-fnBRSb4"
      },
      "execution_count": 15,
      "outputs": []
    },
    {
      "cell_type": "code",
      "source": [
        "cfg.merge_from_file(\"/content/Person-Reidentification/configs/iLIDS-VID/pit.yml\")\n",
        "\n",
        "cfg.merge_from_list(['TEST.VIS', \"True\"])\n",
        "cfg.freeze()"
      ],
      "metadata": {
        "id": "XM1gTk9XSCV2"
      },
      "execution_count": 20,
      "outputs": []
    },
    {
      "cell_type": "code",
      "source": [
        "output_dir = cfg.OUTPUT_DIR\n",
        "if output_dir and not os.path.exists(output_dir):\n",
        "    os.makedirs(output_dir)"
      ],
      "metadata": {
        "id": "Jhlj6AmHSlXl"
      },
      "execution_count": 21,
      "outputs": []
    },
    {
      "cell_type": "code",
      "source": [
        "torch.cuda.is_available()\n",
        "torch.cuda.device_count()"
      ],
      "metadata": {
        "colab": {
          "base_uri": "https://localhost:8080/"
        },
        "id": "a0TfqCOJSxe-",
        "outputId": "04d8954b-de8b-49cf-9545-39a2a82ae168"
      },
      "execution_count": 22,
      "outputs": [
        {
          "output_type": "execute_result",
          "data": {
            "text/plain": [
              "1"
            ]
          },
          "metadata": {},
          "execution_count": 22
        }
      ]
    },
    {
      "cell_type": "code",
      "source": [
        "os.environ['CUDA_VISIBLE_DEVICES'] = cfg.MODEL.DEVICE_ID"
      ],
      "metadata": {
        "id": "Bd7HwhYsTNR7"
      },
      "execution_count": 23,
      "outputs": []
    },
    {
      "cell_type": "code",
      "source": [
        "os.environ['CUDA_VISIBLE_DEVICES'] "
      ],
      "metadata": {
        "colab": {
          "base_uri": "https://localhost:8080/",
          "height": 35
        },
        "id": "thylFmijT9iY",
        "outputId": "5ab09727-cb1a-4d2c-ce51-e92d818cea44"
      },
      "execution_count": 24,
      "outputs": [
        {
          "output_type": "execute_result",
          "data": {
            "text/plain": [
              "'0'"
            ],
            "application/vnd.google.colaboratory.intrinsic+json": {
              "type": "string"
            }
          },
          "metadata": {},
          "execution_count": 24
        }
      ]
    },
    {
      "cell_type": "code",
      "source": [
        "epochs = cfg.SOLVER.MAX_EPOCHS\n",
        "eval_period = cfg.SOLVER.EVAL_PERIOD\n",
        "OUTPUT_DIR = cfg.TEST.WEIGHT\n"
      ],
      "metadata": {
        "id": "JArhPOexUOiF"
      },
      "execution_count": 25,
      "outputs": []
    },
    {
      "cell_type": "code",
      "source": [
        "val_transforms = T.Compose([\n",
        "   T.Resize(cfg.INPUT.SIZE_TEST, interpolation=3),\n",
        "   T.ToTensor(),\n",
        "   T.Normalize(mean=[0.485, 0.456, 0.406], std=[0.229, 0.224, 0.225])\n",
        "])"
      ],
      "metadata": {
        "colab": {
          "base_uri": "https://localhost:8080/"
        },
        "id": "lNK2BnT-UUdg",
        "outputId": "daad2a56-fa70-4684-a346-2e9dfc77295d"
      },
      "execution_count": 26,
      "outputs": [
        {
          "output_type": "stream",
          "name": "stderr",
          "text": [
            "/usr/local/lib/python3.7/dist-packages/torchvision/transforms/transforms.py:333: UserWarning: Argument 'interpolation' of type int is deprecated since 0.13 and will be removed in 0.15. Please use InterpolationMode enum.\n",
            "  \"Argument 'interpolation' of type int is deprecated since 0.13 and will be removed in 0.15. \"\n"
          ]
        }
      ]
    },
    {
      "cell_type": "code",
      "source": [
        "__factory_T_type = {\n",
        "    'vit_base_patch16_224_PiT': vit_base_patch16_224_PiT,\n",
        "    'deit_base_patch16_224_PiT': vit_base_patch16_224_PiT,\n",
        "    'vit_small_patch16_224_PiT': vit_small_patch16_224_PiT,\n",
        "    'deit_small_patch16_224_PiT': deit_small_patch16_224_PiT\n",
        "}\n",
        "\n",
        "__num_of_layers = {\n",
        "    '1x210' : 1,    # global\n",
        "    '2x105' : 2,    # horizontal\n",
        "    '3x70'  : 3,\n",
        "    '5x42'  : 5,\n",
        "    '6x35'  : 6,\n",
        "    '7x10'  : 7,\n",
        "    '105x2' : 2,    # vertical\n",
        "    '70x3'  : 3,\n",
        "    '42x5'  : 5,\n",
        "    '35x6'  : 6,\n",
        "    '10x7'  : 7,\n",
        "    '6p'    : 6,    # patch\n",
        "    '14p'   : 14,\n",
        "    '15p'   : 15,\n",
        "    'NULL'  : 0,\n",
        "}"
      ],
      "metadata": {
        "id": "YElnHRzMa_-m"
      },
      "execution_count": 27,
      "outputs": []
    },
    {
      "cell_type": "code",
      "source": [
        "model_path = 'transformer_120.pth'\n",
        "#train_loader, val_loader, num_query, num_classes, camera_num, view_num = make_dataloader(cfg)\n",
        "#model = make_model(cfg, num_class=\"1261\", camera_num=camera_num, view_num=view_num)\n",
        "#model.load_param(os.path.join(OUTPUT_DIR, model_path))\n",
        "\n",
        "#model = build_transformer_local(num_class, camera_num, view_num, cfg, __factory_T_type,__num_of_layers, rearrange=cfg.MODEL.RE_ARRANGE)\n",
        "\n",
        "model = build_transformer_local(1000, 0, 0, cfg, __factory_T_type,__num_of_layers, rearrange=cfg.MODEL.RE_ARRANGE)\n",
        "\n",
        "model.to(\"cuda\")\n",
        "model.eval()\n",
        "    \n"
      ],
      "metadata": {
        "id": "1KvDK4etVZe6"
      },
      "execution_count": null,
      "outputs": []
    },
    {
      "cell_type": "code",
      "source": [
        "from torchvision.io import read_image\n",
        "img = read_image('/content/pexels-lukas-rychvalsky-670786.jpg')"
      ],
      "metadata": {
        "id": "PhVpXvQqV72t"
      },
      "execution_count": 42,
      "outputs": []
    },
    {
      "cell_type": "code",
      "source": [
        "img.shape"
      ],
      "metadata": {
        "colab": {
          "base_uri": "https://localhost:8080/"
        },
        "id": "TnoyXKZScrr4",
        "outputId": "ea990c4b-841f-4507-e55e-2521fdd193c4"
      },
      "execution_count": 43,
      "outputs": [
        {
          "output_type": "execute_result",
          "data": {
            "text/plain": [
              "torch.Size([3, 3214, 2146])"
            ]
          },
          "metadata": {},
          "execution_count": 43
        }
      ]
    },
    {
      "cell_type": "code",
      "source": [
        "from PIL import Image\n",
        "directory = '/content/pexels-lukas-rychvalsky-670786.jpg'\n",
        "img = Image.open(directory)"
      ],
      "metadata": {
        "id": "qDn3d8gFc0jl"
      },
      "execution_count": 46,
      "outputs": []
    },
    {
      "cell_type": "code",
      "source": [
        "val_transforms(img)"
      ],
      "metadata": {
        "colab": {
          "base_uri": "https://localhost:8080/"
        },
        "id": "rMGA9jQ7dNpF",
        "outputId": "c5b14f72-5f59-487b-9535-8f55dcd30d69"
      },
      "execution_count": 47,
      "outputs": [
        {
          "output_type": "execute_result",
          "data": {
            "text/plain": [
              "tensor([[[ 2.0777,  2.0777,  2.0777,  ...,  1.8722,  1.8550,  1.8208],\n",
              "         [ 2.0777,  2.0777,  2.0777,  ...,  1.8550,  1.8550,  1.8550],\n",
              "         [ 2.0777,  2.0777,  2.0777,  ...,  1.8550,  1.8550,  1.8550],\n",
              "         ...,\n",
              "         [ 1.5125,  1.6324,  1.4612,  ..., -1.1932, -1.1589, -1.1418],\n",
              "         [ 1.6838,  1.4440,  0.2453,  ..., -0.9534, -1.1247, -1.1247],\n",
              "         [ 1.4440,  1.1187,  0.4679,  ..., -1.0904, -1.1247, -1.1247]],\n",
              "\n",
              "        [[ 2.2885,  2.2885,  2.2885,  ...,  2.1310,  2.1310,  2.1485],\n",
              "         [ 2.2885,  2.2885,  2.2885,  ...,  2.1310,  2.1310,  2.1310],\n",
              "         [ 2.2885,  2.2885,  2.2885,  ...,  2.1310,  2.1310,  2.1310],\n",
              "         ...,\n",
              "         [ 1.4482,  1.4307,  1.2206,  ..., -0.5826, -0.5476, -0.5476],\n",
              "         [ 1.5882,  1.2906,  0.2052,  ..., -0.3550, -0.5476, -0.5301],\n",
              "         [ 1.3606,  0.9930,  0.5203,  ..., -0.5126, -0.5301, -0.5301]],\n",
              "\n",
              "        [[ 2.4483,  2.4483,  2.4483,  ...,  2.3437,  2.3437,  2.3437],\n",
              "         [ 2.4483,  2.4483,  2.4483,  ...,  2.3437,  2.3437,  2.3437],\n",
              "         [ 2.4483,  2.4483,  2.4483,  ...,  2.3437,  2.3437,  2.3437],\n",
              "         ...,\n",
              "         [ 1.4722,  1.3677,  1.1237,  ..., -0.2184, -0.1835, -0.1835],\n",
              "         [ 1.6117,  1.2631,  0.2871,  ...,  0.0082, -0.1835, -0.1661],\n",
              "         [ 1.4025,  0.9668,  0.6356,  ..., -0.1487, -0.1835, -0.1661]]])"
            ]
          },
          "metadata": {},
          "execution_count": 47
        }
      ]
    },
    {
      "cell_type": "code",
      "source": [
        "img = torch.stack([val_transforms(img)], 0).unsqueeze(0).to(\"cuda\")"
      ],
      "metadata": {
        "id": "pEp7uJ_-dYjh"
      },
      "execution_count": 48,
      "outputs": []
    },
    {
      "cell_type": "code",
      "source": [
        "attns = model(img, cam_label=[0])"
      ],
      "metadata": {
        "id": "opSnQdQFdcfU"
      },
      "execution_count": 49,
      "outputs": []
    },
    {
      "cell_type": "code",
      "source": [
        " attn_base, attn_head = attns\n",
        " att_base, att_head = torch.stack(attn_base).squeeze(1), torch.stack(attn_head).squeeze(1)\n"
      ],
      "metadata": {
        "id": "HlKGOgoedo-T"
      },
      "execution_count": 50,
      "outputs": []
    },
    {
      "cell_type": "code",
      "source": [
        " # Average the attention weights across all heads.\n",
        "att_base, att_head = torch.mean(att_base, dim=1), torch.mean(att_head, dim=1)\n"
      ],
      "metadata": {
        "id": "w9dVztJid4sD"
      },
      "execution_count": 51,
      "outputs": []
    },
    {
      "cell_type": "code",
      "source": [
        "# To account for residual connections, we add an identity matrix to the\n",
        "    # attention matrix and re-normalize the weights.\n",
        "residual_att_base, redisual_att_head = \\\n",
        "    torch.eye(att_base.size(1)).to(\"cuda\"), \\\n",
        "    torch.eye(att_head.size(1)).to(\"cuda\")\n",
        "aug_att_base, aug_att_head = \\\n",
        "    att_base + residual_att_base, \\\n",
        "    att_head + redisual_att_head\n",
        "aug_att_base, aug_att_head = \\\n",
        "    aug_att_base / aug_att_base.sum(dim=-1).unsqueeze(-1), \\\n",
        "    aug_att_head / aug_att_head.sum(dim=-1).unsqueeze(-1)\n"
      ],
      "metadata": {
        "id": "dbcLpYVjd9YB"
      },
      "execution_count": 53,
      "outputs": []
    },
    {
      "cell_type": "code",
      "source": [
        " # Recursively multiply the weight matrices\n",
        "joint_attentions = torch.zeros(aug_att_base.size()).to(\"cuda\")\n",
        "joint_attentions[0] = aug_att_base[0]\n",
        "\n",
        "for n in range(1, aug_att_base.size(0)):\n",
        "    joint_attentions[n] = torch.matmul(aug_att_base[n], joint_attentions[n - 1])\n"
      ],
      "metadata": {
        "id": "RIhq-9VMeFue"
      },
      "execution_count": 55,
      "outputs": []
    },
    {
      "cell_type": "code",
      "source": [
        "im = Image.open(open('/content/pexels-lukas-rychvalsky-670786.jpg', 'rb'))"
      ],
      "metadata": {
        "id": "8uU6Vd7lfUgo"
      },
      "execution_count": 64,
      "outputs": []
    },
    {
      "cell_type": "code",
      "source": [
        "# Attention from the att_base output token to the input space.\n",
        "v = joint_attentions[-1]\n",
        "img_H, img_W = 21, 10\n",
        "mask = v[0, 1:].reshape(img_H, img_W).detach().cpu().numpy()\n",
        "mask = cv2.resize(mask / mask.max(), im.size)[..., np.newaxis]\n",
        "result = (mask * im).astype(\"uint8\")\n"
      ],
      "metadata": {
        "id": "4WF41BrDeLBe"
      },
      "execution_count": 65,
      "outputs": []
    },
    {
      "cell_type": "code",
      "source": [
        "from matplotlib.backends.backend_pdf import PdfPages\n",
        "plt.figure()\n",
        "plt.imshow(result)\n",
        "plt.show()"
      ],
      "metadata": {
        "colab": {
          "base_uri": "https://localhost:8080/",
          "height": 269
        },
        "id": "_GaHJqUKf5fk",
        "outputId": "04ef8d1e-7db0-4284-c23f-ce9e47893fbf"
      },
      "execution_count": 67,
      "outputs": [
        {
          "output_type": "display_data",
          "data": {
            "text/plain": [
              "<Figure size 432x288 with 1 Axes>"
            ],
            "image/png": "[encoded data removed]"
          },
          "metadata": {
            "needs_background": "light"
          }
        }
      ]
    },
    {
      "cell_type": "code",
      "source": [
        "plt.figure()\n",
        "plt.imshow(mask[:,:,0])\n",
        "plt.show()\n",
        "\n"
      ],
      "metadata": {
        "colab": {
          "base_uri": "https://localhost:8080/",
          "height": 269
        },
        "id": "PuQpxo1YgDra",
        "outputId": "ac3a49c6-166c-41ed-d318-f22e6a924630"
      },
      "execution_count": 73,
      "outputs": [
        {
          "output_type": "display_data",
          "data": {
            "text/plain": [
              "<Figure size 432x288 with 1 Axes>"
            ],
            "image/png": "[encoded data removed]"
          },
          "metadata": {
            "needs_background": "light"
          }
        }
      ]
    }
  ]
}